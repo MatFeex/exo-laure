{
 "cells": [
  {
   "cell_type": "markdown",
   "metadata": {},
   "source": [
    "# Numpy pour le calcul scientifique\n",
    "-------\n",
    "\n",
    "### **Objectifs d'apprentissages :**\n",
    "\n",
    "\n",
    "A la fin de ce cours, vous saurez:\n",
    "- Créer un tableau de type numpy.array\n",
    "- En extraire les principales informations\n",
    "- Utiliser un tableau pour faire des calculs simples\n",
    "- Utiliser les fonctions du module numpy\n",
    "- Représenter des données de façon simple avec le module matplotlib\n",
    "\n",
    "\n",
    "Pour rappel, les cellules de code Python s'exécutent avec SHIFT + ENTREE"
   ]
  },
  {
   "cell_type": "markdown",
   "metadata": {},
   "source": [
    "## A. Numpy pour le calcul scientifique\n",
    "\n",
    "La bibliothèque NumPy (http://www.numpy.org/) permet d’effectuer des calculs numériques avec Python. Elle introduit une gestion facilitée des tableaux de nombres.\n",
    "\n",
    "Il faut au départ importer le package numpy avec l’instruction suivante :\n",
    "\n",
    "### 1. Charger le module NumPy "
   ]
  },
  {
   "cell_type": "code",
   "execution_count": 16,
   "metadata": {},
   "outputs": [],
   "source": [
    "import numpy"
   ]
  },
  {
   "cell_type": "markdown",
   "metadata": {},
   "source": [
    "On préfèrera importer le module de cette façon, plutôt qu'avec un **from numpy import ***\n",
    "\n",
    "\n"
   ]
  },
  {
   "cell_type": "markdown",
   "metadata": {},
   "source": [
    "De cette façon, pour accéder aux fonctions et constantes du module numpy, qui contient - comme le module maths - la valeur de pi, il faut passer par le nom du module et du point \".\" ."
   ]
  },
  {
   "cell_type": "code",
   "execution_count": 17,
   "metadata": {},
   "outputs": [
    {
     "name": "stdout",
     "output_type": "stream",
     "text": [
      "La valeur de pi est  3.141592653589793\n"
     ]
    }
   ],
   "source": [
    "print(\"La valeur de pi est \",numpy.pi)"
   ]
  },
  {
   "cell_type": "markdown",
   "metadata": {},
   "source": [
    "Pour ne pas avoir à réécrire le nom du module numpy en entier, car cela va vite devenir fastidieux, il est possible, lors de l'import du module, de **créer un alias**, comme dans l'exemple ci dessous :"
   ]
  },
  {
   "cell_type": "code",
   "execution_count": 18,
   "metadata": {},
   "outputs": [],
   "source": [
    "import numpy as np"
   ]
  },
  {
   "cell_type": "markdown",
   "metadata": {},
   "source": [
    "De cette façon, pour afficher la valeur de la constante pi du module numpy, on va pouvoir utiliser l'alias np :"
   ]
  },
  {
   "cell_type": "code",
   "execution_count": 19,
   "metadata": {},
   "outputs": [
    {
     "name": "stdout",
     "output_type": "stream",
     "text": [
      "La valeur de pi est 3.141592653589793\n"
     ]
    }
   ],
   "source": [
    "print(\"La valeur de pi est\",np.pi)"
   ]
  },
  {
   "cell_type": "markdown",
   "metadata": {},
   "source": [
    "### 2. Les tableaux numpy.array "
   ]
  },
  {
   "cell_type": "markdown",
   "metadata": {},
   "source": [
    "Les tableaux (en anglais, array) peuvent être créés avec numpy.array(). On utilise des crochets pour délimiter les listes d’éléments dans les tableaux. \n",
    "\n",
    "Les tableaux numpy.array, à la différence des listes, contiennent des éléments du même type.\n",
    "\n",
    "#### Création d'un tableau"
   ]
  },
  {
   "cell_type": "code",
   "execution_count": 20,
   "metadata": {},
   "outputs": [
    {
     "name": "stdout",
     "output_type": "stream",
     "text": [
      "[1 2 3 4]\n",
      "<class 'numpy.ndarray'>\n"
     ]
    }
   ],
   "source": [
    "# Création d'un tableau 1D, nommé a, d'1 ligne et de 4 colonnes\n",
    "a = np.array([1,2,3,4])\n",
    "print(a) # affichage du tableau\n",
    "print(type(a)) # affichage du type du tableau"
   ]
  },
  {
   "cell_type": "code",
   "execution_count": 21,
   "metadata": {},
   "outputs": [
    {
     "name": "stdout",
     "output_type": "stream",
     "text": [
      "[[9. 8. 7.]\n",
      " [6. 5. 4.]]\n",
      "<class 'numpy.ndarray'>\n"
     ]
    }
   ],
   "source": [
    "# Création d'un tableau 2D (matrice), nommé b, de 2 lignes et de 3 colonnes\n",
    "b = np.array([[9.0,8.0,7.0],[6.0,5.0,4.0]])\n",
    "print(b)\n",
    "print(type(b))"
   ]
  },
  {
   "cell_type": "markdown",
   "metadata": {},
   "source": [
    "> Créer un tableau c, 2D, contenant:  \n",
    "    - sur la 1ère ligne les trois entiers : 1,2,3  \n",
    "    - sur la 2ème ligne les trois entiers : 4,5,6  \n",
    "    - sur la 3ème ligne les trois entiers : 7,8,9  "
   ]
  },
  {
   "cell_type": "code",
   "execution_count": 26,
   "metadata": {},
   "outputs": [
    {
     "name": "stdout",
     "output_type": "stream",
     "text": [
      "[[1 2 3]\n",
      " [4 5 6]\n",
      " [7 8 9]]\n"
     ]
    }
   ],
   "source": [
    "# Création du tableau c\n",
    "c = np.array([[1,2,3],[4,5,6],[7,8,9]])\n",
    "\n",
    "# Affichage du tableau c\n",
    "print(c)"
   ]
  },
  {
   "cell_type": "markdown",
   "metadata": {},
   "source": [
    "#### Type du tableau numpy.array\n",
    "> Dans la cellule ci-dessous, affichez le type des tableaux a,b et c :"
   ]
  },
  {
   "cell_type": "code",
   "execution_count": 23,
   "metadata": {},
   "outputs": [
    {
     "name": "stdout",
     "output_type": "stream",
     "text": [
      "<class 'numpy.ndarray'>\n",
      "<class 'numpy.ndarray'>\n",
      "<class 'numpy.ndarray'>\n"
     ]
    }
   ],
   "source": [
    "# Afficher avec la fonction type, le type des tableaux a, b et c\n",
    "print(type(a))\n",
    "print(type(b))\n",
    "print(type(c))"
   ]
  },
  {
   "cell_type": "markdown",
   "metadata": {},
   "source": [
    "Les tableaux numpy.array sont donc des objets issus de la classe numpy.ndarray.\n",
    "\n",
    "##### En tant qu'instances de classe, les numpy.array possèdent donc des attributs, ainsi que des méthodes. \n",
    "*Rappel: les attributs et les méthodes sont accessibles via le point \".\" accolé à l'objet.*\n",
    "\n",
    "#### Dimensions : l'attribut ndim\n",
    "On récupère la dimension du tableau avec l'attribut ndim :"
   ]
  },
  {
   "cell_type": "code",
   "execution_count": 24,
   "metadata": {},
   "outputs": [
    {
     "name": "stdout",
     "output_type": "stream",
     "text": [
      "1\n",
      "2\n",
      "2\n"
     ]
    }
   ],
   "source": [
    "# Récupérer et afficher les dimensions des tableaux a, b et c, au sens de 1D, 2D, 3D ...\n",
    "print(a.ndim)\n",
    "print(b.ndim)\n",
    "print(c.ndim)"
   ]
  },
  {
   "cell_type": "markdown",
   "metadata": {},
   "source": [
    "#### La forme (shape en anglais) : l'attribut shape\n",
    "On récupère la forme avec l'attribut shape."
   ]
  },
  {
   "cell_type": "markdown",
   "metadata": {},
   "source": [
    "L'attribut shape est fourni sous la forme d'un couple de valeurs, séparées par une virgule, entre deux parenthèses.\n",
    "Il s'agit d'un **tuple**, une nouveau type de donnée différent de la liste et du dictionnaire en Python.\n",
    "Tout ce que vous devez retenir, c'est que le tuple est une liste qui ne peut plus être modifiée. \n"
   ]
  },
  {
   "cell_type": "code",
   "execution_count": 29,
   "metadata": {},
   "outputs": [
    {
     "name": "stdout",
     "output_type": "stream",
     "text": [
      "Nombre de lignes : 2\n",
      "Nombre de colonnes : 3\n"
     ]
    }
   ],
   "source": [
    "# Compléter le code suivant\n",
    "# Les indices commencent à 0 en python !!!!\n",
    "\n",
    "# NB de lignes du tableau \"b\"\n",
    "nbligne = b.shape[0]\n",
    "\n",
    "# NB de colonnes du tableau\n",
    "nbcol = b.shape[1]\n",
    "\n",
    "# Afficher le nombre de colonnes et de lignes\n",
    "print('Nombre de lignes :',nbligne)\n",
    "print('Nombre de colonnes :',nbcol)"
   ]
  },
  {
   "cell_type": "markdown",
   "metadata": {},
   "source": [
    "#### Le type : l'attribut dtype\n",
    "Cet attribut donne le type de chaque élément du tableau numpy.array\n"
   ]
  },
  {
   "cell_type": "code",
   "execution_count": 32,
   "metadata": {},
   "outputs": [
    {
     "name": "stdout",
     "output_type": "stream",
     "text": [
      "int32\n",
      "float64\n",
      "int32\n"
     ]
    }
   ],
   "source": [
    "# Récupérer et afficher le type des tableaux a, b et c avec l'attribut dtype\n",
    "print(a.dtype)\n",
    "print(b.dtype)\n",
    "print(c.dtype)"
   ]
  },
  {
   "cell_type": "markdown",
   "metadata": {},
   "source": [
    "Pour plus d'informations sur les principaux types de données, voir : https://docs.scipy.org/doc/numpy/user/basics.types.html\n",
    "\n",
    "Retenez que le nombre qui suit \"int\" ou \"float\" correspond au nombre de bits (0 ou 1) utilisés pour coder la valeur.\n",
    "\n",
    "#### Le nombre total d'éléments d'un tableau : l'attribut size\n"
   ]
  },
  {
   "cell_type": "code",
   "execution_count": 34,
   "metadata": {},
   "outputs": [
    {
     "name": "stdout",
     "output_type": "stream",
     "text": [
      "4\n",
      "6\n",
      "9\n"
     ]
    }
   ],
   "source": [
    "# Récupérer et afficher le nombre total d'éléments des tableaux a, b et c\n",
    "print(a.size)\n",
    "print(b.size)\n",
    "print(c.size)"
   ]
  },
  {
   "cell_type": "markdown",
   "metadata": {},
   "source": [
    "### 3. Accès/Modification d'éléments spécifiques, lignes, colonnes"
   ]
  },
  {
   "cell_type": "code",
   "execution_count": 35,
   "metadata": {},
   "outputs": [
    {
     "name": "stdout",
     "output_type": "stream",
     "text": [
      "[[ 1  2  3  4  5  6  7]\n",
      " [ 8  9 10 11 12 13 14]]\n"
     ]
    }
   ],
   "source": [
    "a = np.array([[1,2,3,4,5,6,7],[8,9,10,11,12,13,14]])\n",
    "print(a)"
   ]
  },
  {
   "cell_type": "markdown",
   "metadata": {},
   "source": [
    "#### Accès aux éléments d'un numpy.array\n",
    "Pour récupérer un élément spécifique, on utilise la notation : **[ligne, colonne]** où ligne est l'indice de la ligne et colonne l'indice de la colonne de l'élément.\n",
    "Le numéro de la ligne ou le numéro de la colonne peut être remplacé par un **:** pour extraire tous les éléments.\n",
    "\n",
    "Souvenez vous que les indices commencent à 0 !!!!!\n",
    "> Exécutez les cellules suivantes"
   ]
  },
  {
   "cell_type": "code",
   "execution_count": 36,
   "metadata": {},
   "outputs": [
    {
     "name": "stdout",
     "output_type": "stream",
     "text": [
      "13\n"
     ]
    }
   ],
   "source": [
    "# Récupération de l'élément de la 2ème ligne et de la 6ème colonne :\n",
    "print(a[1, 5]) "
   ]
  },
  {
   "cell_type": "code",
   "execution_count": 37,
   "metadata": {},
   "outputs": [
    {
     "name": "stdout",
     "output_type": "stream",
     "text": [
      "[1 2 3 4 5 6 7]\n",
      "[1 2 3 4 5 6 7]\n"
     ]
    }
   ],
   "source": [
    "# Récupération de la première ligne \n",
    "print(a[0])\n",
    "print(a[0,:])"
   ]
  },
  {
   "cell_type": "code",
   "execution_count": 59,
   "metadata": {},
   "outputs": [
    {
     "data": {
      "text/plain": [
       "array([ 3, 10])"
      ]
     },
     "execution_count": 59,
     "metadata": {},
     "output_type": "execute_result"
    }
   ],
   "source": [
    "# Récupération de la troisième colonne\n",
    "b = a[:,2]\n",
    "b"
   ]
  },
  {
   "cell_type": "markdown",
   "metadata": {},
   "source": [
    "Il est toujours possible d'utiliser la méthode du slicing pour extraire des sous-tableaux:"
   ]
  },
  {
   "cell_type": "code",
   "execution_count": 38,
   "metadata": {},
   "outputs": [
    {
     "data": {
      "text/plain": [
       "array([2, 4, 6])"
      ]
     },
     "execution_count": 38,
     "metadata": {},
     "output_type": "execute_result"
    }
   ],
   "source": [
    "# Extraction plus complexe [startindex:endindex:stepsize]\n",
    "b = a[0,1:6:2]\n",
    "b"
   ]
  },
  {
   "cell_type": "markdown",
   "metadata": {},
   "source": [
    "#### Modification des éléments d'un numpy.array\n",
    "On peut évidemment modifier les valeurs des éléments d'un tableau, en utilisant l'opérateur d'assignation =."
   ]
  },
  {
   "cell_type": "code",
   "execution_count": 39,
   "metadata": {},
   "outputs": [
    {
     "name": "stdout",
     "output_type": "stream",
     "text": [
      "[[ 1  2  1  4  5  6  7]\n",
      " [ 8  9  2 11 12 20 14]]\n"
     ]
    }
   ],
   "source": [
    "# Exemples\n",
    "a[1,5] = 20 # Modification de l'élément de la 2ème ligne et 6ème colonne\n",
    "a[:,2] = [1,2] # Modification de la 3ème colonne\n",
    "print(a)"
   ]
  },
  {
   "cell_type": "markdown",
   "metadata": {},
   "source": [
    "### 4. Quelque fonctions et méthodes utiles pour la création de tableaux\n",
    "\n",
    "Le module numpy regorge de fonctions utiles...\n",
    "> Excéutez les cellules suivantes\n",
    "\n",
    "#### Fonction identity pour la création des matrices identités\n",
    "Hé oui, une fonction existe pour cela ! (On vous a fait travailler, en partie, pour rien dans la cellule précédente)"
   ]
  },
  {
   "cell_type": "code",
   "execution_count": 44,
   "metadata": {},
   "outputs": [
    {
     "name": "stdout",
     "output_type": "stream",
     "text": [
      "[[1. 0. 0. 0. 0.]\n",
      " [0. 1. 0. 0. 0.]\n",
      " [0. 0. 1. 0. 0.]\n",
      " [0. 0. 0. 1. 0.]\n",
      " [0. 0. 0. 0. 1.]]\n"
     ]
    }
   ],
   "source": [
    "# Créer et afficher la matrice identité carrée 5*5\n",
    "m_carree5 = np.identity(5)\n",
    "print(m_carree5)"
   ]
  },
  {
   "cell_type": "markdown",
   "metadata": {},
   "source": [
    "#### Fonction zeros pour la création de matrices nulles"
   ]
  },
  {
   "cell_type": "code",
   "execution_count": 49,
   "metadata": {},
   "outputs": [
    {
     "name": "stdout",
     "output_type": "stream",
     "text": [
      "[[0. 0. 0.]\n",
      " [0. 0. 0.]\n",
      " [0. 0. 0.]]\n"
     ]
    }
   ],
   "source": [
    "# Créer et afficher une matrice carrée 3*3 nulle\n",
    "m_zeros33 = np.zeros((3,3))\n",
    "print(m_zeros33)"
   ]
  },
  {
   "cell_type": "markdown",
   "metadata": {},
   "source": [
    "On utilise souvent la fonction zéros pour initialiser un tableau à sa création :"
   ]
  },
  {
   "cell_type": "code",
   "execution_count": 52,
   "metadata": {},
   "outputs": [
    {
     "name": "stdout",
     "output_type": "stream",
     "text": [
      "[[0. 0.]\n",
      " [0. 0.]\n",
      " [0. 0.]]\n"
     ]
    }
   ],
   "source": [
    "# Créer et afficher un tableau v de 3 lignes et 2 colonnes\n",
    "v = np.zeros((3,2))\n",
    "print(v)"
   ]
  },
  {
   "cell_type": "markdown",
   "metadata": {},
   "source": [
    "Ce tableau peut être ensuite rempli case par case :"
   ]
  },
  {
   "cell_type": "code",
   "execution_count": 53,
   "metadata": {},
   "outputs": [
    {
     "name": "stdout",
     "output_type": "stream",
     "text": [
      "[[1. 2.]\n",
      " [1. 2.]\n",
      " [1. 2.]]\n"
     ]
    }
   ],
   "source": [
    "# Remplissage ligne par ligne\n",
    "for i in range(3): # boucle sur i qui va aller de 0 à 2 inclus. Les : sont indispensables !\n",
    "    v[i,0] = 1     # Les instructions sont indentées\n",
    "    v[i,1] = 2     # On est toujours dans la boucle\n",
    "\n",
    "#Ici on est sorti de la boucle car on a desindenté   \n",
    "print(v)"
   ]
  },
  {
   "cell_type": "markdown",
   "metadata": {},
   "source": [
    "*Exercice* : \n",
    "> Initialisez à 0  un tableau w de 3 lignes et 7 colonnes. <br>\n",
    "Remplissez-le colonne par colonne en ne mettant que des 1 dans la première colonne, 2 dans la deuxième ... et des 7 dans la septième. <br>\n",
    "Affichez le tableau."
   ]
  },
  {
   "cell_type": "code",
   "execution_count": 58,
   "metadata": {},
   "outputs": [
    {
     "name": "stdout",
     "output_type": "stream",
     "text": [
      "[[1. 2. 3. 4. 5. 6. 7.]\n",
      " [1. 2. 3. 4. 5. 6. 7.]\n",
      " [1. 2. 3. 4. 5. 6. 7.]]\n"
     ]
    }
   ],
   "source": [
    "# Tableau w\n",
    "w = np.zeros((3,7))\n",
    "\n",
    "for i in range(3): \n",
    "    w[i,0] = 1     \n",
    "    w[i,1] = 2     \n",
    "    w[i,2] = 3\n",
    "    w[i,3] = 4\n",
    "    w[i,4] = 5 \n",
    "    w[i,5] = 6  \n",
    "    w[i,6] = 7  \n",
    "\n",
    "print(w)"
   ]
  },
  {
   "cell_type": "markdown",
   "metadata": {},
   "source": []
  },
  {
   "cell_type": "markdown",
   "metadata": {},
   "source": [
    "#### Fonction ones pour la création de matrices contenant que des 1\n",
    "\n",
    "Remarque : il est possible de spécifier grâce au paramètre dtype, le type de variable qui est stocké dans la matrice.\n",
    "int32 correspond au type entier codé en 32 bits soit 4 octets :).   \n",
    "    \n",
    "Vous pouvez aussi spécifier le type lorsque vous créez des tableaux numpy.array ..."
   ]
  },
  {
   "cell_type": "code",
   "execution_count": 59,
   "metadata": {},
   "outputs": [
    {
     "name": "stdout",
     "output_type": "stream",
     "text": [
      "[[1 1]\n",
      " [1 1]\n",
      " [1 1]\n",
      " [1 1]]\n"
     ]
    }
   ],
   "source": [
    "# Création d'une matrice contenant des 1\n",
    "m = np.ones((4,2), dtype='int32')\n",
    "print(m)"
   ]
  },
  {
   "cell_type": "markdown",
   "metadata": {},
   "source": [
    "#### Fonction arange\n",
    "\n",
    "numpy.arange() permet d’obtenir un tableau de type numpy.array allant d’une valeur de départ à une valeur de fin avec un incrément."
   ]
  },
  {
   "cell_type": "code",
   "execution_count": 60,
   "metadata": {
    "scrolled": true
   },
   "outputs": [
    {
     "name": "stdout",
     "output_type": "stream",
     "text": [
      "[ 3  5  7  9 11 13]\n"
     ]
    }
   ],
   "source": [
    "m = np.arange(3, 15, 2) # Utilisation (départ,fin,pas)\n",
    "print(m)"
   ]
  },
  {
   "cell_type": "markdown",
   "metadata": {},
   "source": [
    "#### Fonction linspace\n",
    "\n",
    "numpy.linspace() permet d’obtenir un tableau 1D allant d’une valeur de départ à une valeur de fin avec un nombre donné d’éléments."
   ]
  },
  {
   "cell_type": "code",
   "execution_count": 62,
   "metadata": {},
   "outputs": [
    {
     "name": "stdout",
     "output_type": "stream",
     "text": [
      "[3.         3.66666667 4.33333333 5.         5.66666667 6.33333333\n",
      " 7.         7.66666667 8.33333333 9.        ]\n"
     ]
    }
   ],
   "source": [
    "v = np.linspace(3, 9, 10) # Utilisation (depart,fin,nb_de_valeurs)\n",
    "print(v)"
   ]
  },
  {
   "cell_type": "markdown",
   "metadata": {},
   "source": [
    "#### La méthode copy pour la copie des tableaux !!!"
   ]
  },
  {
   "cell_type": "code",
   "execution_count": 65,
   "metadata": {},
   "outputs": [
    {
     "name": "stdout",
     "output_type": "stream",
     "text": [
      "[1 2 3]\n",
      "[100   2   3]\n"
     ]
    }
   ],
   "source": [
    "a = np.array([1,2,3])\n",
    "b = a.copy()\n",
    "b[0] = 100\n",
    "\n",
    "print(a)\n",
    "print(b)"
   ]
  },
  {
   "cell_type": "markdown",
   "metadata": {},
   "source": [
    "> Remplacez la deuxième ligne par b=a (ce qu'il ne faut pas faire) et observez l'utilité de la méthode copy"
   ]
  },
  {
   "cell_type": "markdown",
   "metadata": {},
   "source": [
    "### 5. Opérations mathématiques de base\n",
    "> Exécutez toutes les cellules suivantes et observez le résultat des opérations suivantes."
   ]
  },
  {
   "cell_type": "code",
   "execution_count": 66,
   "metadata": {},
   "outputs": [
    {
     "name": "stdout",
     "output_type": "stream",
     "text": [
      "[1 2 3 4]\n"
     ]
    }
   ],
   "source": [
    "a = np.array([1,2,3,4])\n",
    "print(a)"
   ]
  },
  {
   "cell_type": "code",
   "execution_count": 67,
   "metadata": {},
   "outputs": [
    {
     "name": "stdout",
     "output_type": "stream",
     "text": [
      "[3 4 5 6]\n"
     ]
    }
   ],
   "source": [
    "a = a + 2\n",
    "print(a)"
   ]
  },
  {
   "cell_type": "code",
   "execution_count": 68,
   "metadata": {},
   "outputs": [
    {
     "name": "stdout",
     "output_type": "stream",
     "text": [
      "[1 2 3 4]\n"
     ]
    }
   ],
   "source": [
    "a = a - 2\n",
    "print(a)"
   ]
  },
  {
   "cell_type": "code",
   "execution_count": 69,
   "metadata": {},
   "outputs": [
    {
     "name": "stdout",
     "output_type": "stream",
     "text": [
      "[2 4 6 8]\n"
     ]
    }
   ],
   "source": [
    "a = a * 2\n",
    "print(a)"
   ]
  },
  {
   "cell_type": "code",
   "execution_count": 70,
   "metadata": {},
   "outputs": [
    {
     "name": "stdout",
     "output_type": "stream",
     "text": [
      "[1. 2. 3. 4.]\n"
     ]
    }
   ],
   "source": [
    "a = a / 2\n",
    "print(a)"
   ]
  },
  {
   "cell_type": "code",
   "execution_count": 71,
   "metadata": {},
   "outputs": [
    {
     "name": "stdout",
     "output_type": "stream",
     "text": [
      "[2. 2. 4. 4.]\n"
     ]
    }
   ],
   "source": [
    "b = np.array([1,0,1,0])\n",
    "print(a + b)"
   ]
  },
  {
   "cell_type": "code",
   "execution_count": 72,
   "metadata": {},
   "outputs": [
    {
     "name": "stdout",
     "output_type": "stream",
     "text": [
      "[ 1.  4.  9. 16.]\n",
      "30.0\n"
     ]
    }
   ],
   "source": [
    "print(a ** 2)\n",
    "print(np.matmul(a, a))"
   ]
  },
  {
   "cell_type": "code",
   "execution_count": 73,
   "metadata": {},
   "outputs": [
    {
     "name": "stdout",
     "output_type": "stream",
     "text": [
      "[ 0.84147098  0.90929743  0.14112001 -0.7568025 ]\n"
     ]
    }
   ],
   "source": [
    "# Calculer le sinus sur un tableau :\n",
    "m = np.sin(a)\n",
    "print(m)"
   ]
  },
  {
   "cell_type": "markdown",
   "metadata": {},
   "source": [
    "\n",
    "##### La fonction matmul pour la mutliplication de matrices"
   ]
  },
  {
   "cell_type": "code",
   "execution_count": 80,
   "metadata": {},
   "outputs": [
    {
     "name": "stdout",
     "output_type": "stream",
     "text": [
      "a = [[1. 1. 1.]\n",
      " [1. 1. 1.]]\n",
      "\n",
      "b = [[2 2]\n",
      " [2 2]\n",
      " [2 2]]\n",
      "\n",
      "a*b = [[6. 6.]\n",
      " [6. 6.]]\n"
     ]
    }
   ],
   "source": [
    "import numpy as np\n",
    "\n",
    "a = np.ones((2,3))\n",
    "print(\"a =\",a)\n",
    "\n",
    "b = np.full((3,2), 2)\n",
    "print(\"\\nb =\",b)\n",
    "\n",
    "print(\"\\na*b =\",np.matmul(a,b))"
   ]
  },
  {
   "cell_type": "markdown",
   "metadata": {},
   "source": [
    "Pour plus d'information sur les fonctions et méthodes d'algèbre linéaire: voir https://docs.scipy.org/doc/numpy/reference/routines.linalg.html\n",
    "\n",
    "- Déterminant\n",
    "- Trace\n",
    "- Décomposition en valeurs singulières\n",
    "- Valeurs propres\n",
    "- Inverse\n",
    "\n",
    "Etc..."
   ]
  },
  {
   "cell_type": "markdown",
   "metadata": {},
   "source": [
    "## B. Tracé de courbes :  la librairie matplotlib\n",
    "\n",
    "A travers l'exempe suivant, comprenez comment:\n",
    "- tracer une courbe\n",
    "- nommer ses axes\n",
    "- rajouter un titre et une légende\n",
    "\n",
    "> Rajouter le tracé de z en fonction de x en rajoutant un appel à plt.plot"
   ]
  },
  {
   "cell_type": "code",
   "execution_count": 74,
   "metadata": {},
   "outputs": [
    {
     "data": {
      "image/png": "[encoded data removed]",
      "text/plain": [
       "<Figure size 640x480 with 1 Axes>"
      ]
     },
     "metadata": {},
     "output_type": "display_data"
    }
   ],
   "source": [
    "import numpy as np # Import de numpy et création de l'alias np\n",
    "import matplotlib.pyplot as plt # Import de matplotlib.pyplot et création de l'alias plt\n",
    "\n",
    "# Tracé d'une courbe avec matplotlib\n",
    "x = np.arange(-100., 100, 1)\n",
    "y = x ** 2\n",
    "z = 3 * x ** 2 \n",
    "\n",
    "plt.figure(1) # Ma première figure\n",
    "\n",
    "plt.xlabel(\"x\") # Le label des abscisses\n",
    "plt.ylabel(\"y\") # Le label des ordonnées\n",
    "\n",
    "plt.title(\"Tracé des courbes y = x**2 et z = 3 x**2\") # Titre de la courbe\n",
    "\n",
    "plt.plot(x,y,label=\"x**2\") # Le tracé en lui-même\n",
    "plt.plot(x, z, label=\"3x**2\")  # Tracer la courbe z\n",
    "\n",
    "\n",
    "plt.legend() # On rajoute la légende \n",
    "\n",
    "plt.show() # On affiche le tout"
   ]
  }
 ],
 "metadata": {
  "kernelspec": {
   "display_name": "Python 3 (ipykernel)",
   "language": "python",
   "name": "python3"
  },
  "language_info": {
   "codemirror_mode": {
    "name": "ipython",
    "version": 3
   },
   "file_extension": ".py",
   "mimetype": "text/x-python",
   "name": "python",
   "nbconvert_exporter": "python",
   "pygments_lexer": "ipython3",
   "version": "3.10.4"
  }
 },
 "nbformat": 4,
 "nbformat_minor": 2
}
