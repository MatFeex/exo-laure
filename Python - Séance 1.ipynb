{
 "cells": [
  {
   "cell_type": "markdown",
   "metadata": {},
   "source": [
    "\n",
    "                                                                                            \n",
    "# Séance 1 :\n",
    "-------\n",
    "\n",
    "### **Objectifs d'apprentissages :**\n",
    "\n",
    "\n",
    "A la fin de ce cours, vous saurez:\n",
    "\n",
    "- utiliser le notebook Jupyter pour y écrire du texte et exécuter des programmes simples\n",
    "- utiliser les principaux types de données simples en Python : ***int, float, str, bool, list***\n",
    "- utiliser les structures conditionnelles ***if, elif, else*** et itératives ***for, while***\n",
    "- lancer Spyder et utiliser la console interactive de Python\n",
    "- lancer Python à partir de l'invite de commande DOS\n",
    "- reconnaître les bonnes pratiques de développement en Python\n",
    "\n",
    "\n",
    "-----\n",
    "\n"
   ]
  },
  {
   "cell_type": "markdown",
   "metadata": {},
   "source": [
    "\n",
    "\n",
    "\n",
    "#### **Python: pourquoi ?**\n",
    "Python est un langage de programmation multi-paradigme largement utilisé dans l'industrie et la recherche.\n",
    "\n",
    "Raisons de son succès : opensource (donc gratuit), simple et très rapide à apprendre (car proche du pseudo-code), riche (multiples packages), portable et interfaçable (c'est à dire compatible) avec d'autres langages (langage C, Fortran, ...).\n",
    "\n",
    ">Quelle version de Python j'utilise ?  \n",
    "Ouvrez un invite de commande windows (tapez *cmd* dans la barre de recherche Windows) et tapez :\n",
    "*python*\n",
    "Vous verrez apparaître trois chevrons >>> qui indiquent que vous êtes dorénavant dans l'interpréteur interactif de Python.  \n",
    "Pour en sortir tapez : *exit()*  \n",
    "\n"
   ]
  },
  {
   "cell_type": "raw",
   "metadata": {},
   "source": [
    "Réponse : Version de python utilisée : Python 3.10.4\n",
    "Ou donné par \"python --version\" dans la cmd"
   ]
  },
  {
   "cell_type": "markdown",
   "metadata": {},
   "source": [
    "**Remarque**: Cet interpréteur Python est le même que celui de la partie Console de l'environnement de développement Spyder. Ouvrez Spyder pour vous en convaincre.\n",
    ">Spyder utilise-t-il la même version de Python ?"
   ]
  },
  {
   "cell_type": "raw",
   "metadata": {},
   "source": [
    "Réponse : Oui - la powershell de Spider utilise la même version de Python, son interface est juste intégrée à Spider"
   ]
  },
  {
   "cell_type": "markdown",
   "metadata": {},
   "source": [
    "### **Prise en main du Jupyter notebook**\n",
    "\n",
    "\n",
    "Jupyter est une application web permettant de créer des notebooks. Jupyter permet de programmer en direct en langage Python, langage Julia et langage R. Le code s’y exécute. \n",
    "\n",
    "Le notebook Jupyter permet de combiner des sections en **langage naturel**, formatées (mises en formes) ou non, et des sections en **langage de programmation** dans un **même document**.  "
   ]
  },
  {
   "cell_type": "markdown",
   "metadata": {},
   "source": [
    "Ceci est une section en langage naturel, écrit avec **Markdown**, un système d’**édition** et de **formatage** de texte.  \n",
    "\n",
    "\n",
    "    for i in range(0,4):\n",
    "        print(\"i =\",i)\n",
    "        "
   ]
  },
  {
   "cell_type": "raw",
   "metadata": {},
   "source": [
    "Ceci est une section en langage naturel écrite sans mise en forme. Elle peut être modifiée par vos soins mais ne comporte pas de lignes de code Python exécutables."
   ]
  },
  {
   "cell_type": "markdown",
   "metadata": {},
   "source": [
    "La cellule suivante est, quant à elle, une section qui contient du code en Python exécutable.\n",
    ">Placez vous dans la cellule et tapez sur ENTREE pour l'exécuter. Que se passe-t-il ?"
   ]
  },
  {
   "cell_type": "code",
   "execution_count": null,
   "metadata": {
    "scrolled": true
   },
   "outputs": [],
   "source": [
    "for i in range(3,10):\n",
    "    print(\"i =\",i)\n",
    "    print(\"printprintprint\")"
   ]
  },
  {
   "cell_type": "raw",
   "metadata": {},
   "source": [
    "Réponse : Lorsque l'on tape ENTREE, rien ne se passe hormis un saut de ligne classique"
   ]
  },
  {
   "cell_type": "markdown",
   "metadata": {},
   "source": [
    ">Sélectionnez à nouveau la cellule et en appuyez sur **MAJ + ENTREE**. Que se passe-t-il ?"
   ]
  },
  {
   "cell_type": "raw",
   "metadata": {},
   "source": [
    "Réponse: Le code python est exécuté avec MAJ + ENTREE\n",
    "La boucle for print les champs indiqués selon range(start:included,end:excluded,step:default-1)\n",
    "Soit : \n",
    "i = 3\n",
    "printprintprint\n",
    "i = 4\n",
    "printprintprint\n",
    "i = 5\n",
    "printprintprint\n",
    "i = 6\n",
    "printprintprint\n",
    "i = 7\n",
    "printprintprint\n",
    "i = 8\n",
    "printprintprint\n",
    "i = 9\n",
    "printprintprint"
   ]
  },
  {
   "cell_type": "markdown",
   "metadata": {},
   "source": [
    "Pour exécuter une cellule de code, vous pouvez également **cliquer sur le bouton [Exécuter]**, ou encore utiliser le **menu Cell>Run Cells**. \n",
    "\n",
    "\n",
    ">Exécutez la cellule suivante en utilisant les 3 façons différentes décrites précédemment :"
   ]
  },
  {
   "cell_type": "code",
   "execution_count": 18,
   "metadata": {},
   "outputs": [
    {
     "name": "stdout",
     "output_type": "stream",
     "text": [
      "Résultat : 17\n"
     ]
    }
   ],
   "source": [
    "var = 10+7\n",
    "print(f\"Résultat : {var}\") # print(var)"
   ]
  },
  {
   "cell_type": "markdown",
   "metadata": {},
   "source": [
    ">Que remarquez-vous à chaque fois que vous exécutez une cellule ?"
   ]
  },
  {
   "cell_type": "raw",
   "metadata": {},
   "source": [
    "Réponse : A chaque fois que la cellule est exécutée, son output est mis à jour. "
   ]
  },
  {
   "cell_type": "markdown",
   "metadata": {},
   "source": [
    ">Modifiez la cellule de code Python précédente pour récupérer le résultat de l'addition dans une variable et l'afficher avec la fonction ***print()***. Exécutez la cellule et vérifiez le résultat. \n",
    "\n",
    "\n",
    "\n",
    "**Remarque**: Les cellules Python exécutables de Jupyter Notebook se comportent comme si vous utilisiez l'interpréteur intéractif de Python.\n",
    "\n",
    "\n",
    ">Lancez Python à partir de **l'invite de commande DOS** (tapez cmd dans la barre de recherche windows et dans l'invite tapez python) et lancez **Spyder** en parallèle. \n",
    "\n",
    ">Utilisez les **deux consoles interactives** (DOS et Spyder) en y testant la **multiplication** avec l'opérateur *,  les **division** et **division entière** avec les opérateurs / et // et l'opérateur **modulo** %. "
   ]
  },
  {
   "cell_type": "raw",
   "metadata": {},
   "source": [
    "test1 = 1/2     # division\n",
    "test2 = 1//2    # division entière\n",
    "test3 = 1%2     # modulo"
   ]
  },
  {
   "cell_type": "markdown",
   "metadata": {},
   "source": [
    "### Les principaux types de données en Python\n",
    "Python est un langage à **typage dynamique**, ce qui signifie qu’il n’est pas nécessaire de déclarer les variables avant de pouvoir leur affecter une valeur. \n",
    "La valeur que l’on affecte possède un type qui dépend de la nature des données (nombre entier, nombre à virgule, chaîne de caractères, etc). \n",
    "Le type du contenu d’une variable peut donc changer si on change sa valeur.\n",
    "\n",
    "\n",
    "Pour connaître le type d’une variable, il suffit d’utiliser la fonction ***type()***.\n",
    "\n",
    "\n",
    "\n",
    "#### 1. Le type entier : ***int***   \n",
    "\n",
    "Ce type est utilisé pour stocker un entier, en anglais integer. Pour cette raison, on appelle ce type int."
   ]
  },
  {
   "cell_type": "code",
   "execution_count": 31,
   "metadata": {},
   "outputs": [
    {
     "name": "stdout",
     "output_type": "stream",
     "text": [
      "10\n",
      "<class 'int'>\n"
     ]
    }
   ],
   "source": [
    "a = 10\n",
    "print(a)\n",
    "print(type(a))"
   ]
  },
  {
   "cell_type": "markdown",
   "metadata": {},
   "source": [
    ">Exécutez la cellule précédente. Que se passe-t-il ?"
   ]
  },
  {
   "cell_type": "raw",
   "metadata": {},
   "source": [
    "Réponse : Python donne un type par défault à la variable a (chiffre entier donc integer) et type(a) indique le type de la variable a.\n",
    "\n",
    "Output :\n",
    "10\n",
    "<class 'int'>"
   ]
  },
  {
   "cell_type": "markdown",
   "metadata": {},
   "source": [
    "##### 2. Le type réel ou flottant : ***float*** \n",
    "\n",
    "Ce type est utilisé pour stocker des nombres à virgule flottante, désignés en anglais par l’expression floating point numbers. Pour cette raison, on appelle ce type : float. \n",
    "En français, on parle de flottant.\n",
    ">Dans les 3 cellules ci-dessus, affichez le type des variables.  "
   ]
  },
  {
   "cell_type": "code",
   "execution_count": 32,
   "metadata": {},
   "outputs": [
    {
     "name": "stdout",
     "output_type": "stream",
     "text": [
      "<class 'float'>\n"
     ]
    }
   ],
   "source": [
    "b=10.\n",
    "print(type(b))"
   ]
  },
  {
   "cell_type": "code",
   "execution_count": 22,
   "metadata": {},
   "outputs": [
    {
     "name": "stdout",
     "output_type": "stream",
     "text": [
      "<class 'float'>\n"
     ]
    }
   ],
   "source": [
    "c=13.\n",
    "print(type(c))"
   ]
  },
  {
   "cell_type": "code",
   "execution_count": 23,
   "metadata": {},
   "outputs": [
    {
     "name": "stdout",
     "output_type": "stream",
     "text": [
      "<class 'float'>\n"
     ]
    }
   ],
   "source": [
    "d=6.44e-3\n",
    "print(type(d))"
   ]
  },
  {
   "cell_type": "markdown",
   "metadata": {},
   "source": [
    "\n",
    ">Dans la cellule ci-dessous, faites le produit entre b (float) et c (float) que vous récupèrerez dans une variable e. Affichez e et son type."
   ]
  },
  {
   "cell_type": "code",
   "execution_count": 25,
   "metadata": {},
   "outputs": [
    {
     "name": "stdout",
     "output_type": "stream",
     "text": [
      "La produit e de b et c est : 130.0 , et son type est : <class 'float'>\n"
     ]
    }
   ],
   "source": [
    "e = b * c       # produit de b et c\n",
    "print(f\"La produit e de b et c est : {e} , et son type est : {type(e)}\") # print(e), print(type(e))"
   ]
  },
  {
   "cell_type": "markdown",
   "metadata": {},
   "source": [
    ">Que remarquez-vous?"
   ]
  },
  {
   "cell_type": "raw",
   "metadata": {},
   "source": [
    "Réponse : Un produit de deux nombre flottants (float) donne un nombre floattant (float) même si ce nombre est entier. "
   ]
  },
  {
   "cell_type": "markdown",
   "metadata": {},
   "source": [
    ">Faites maintenant le produit entre a (int) et b (float) que vous récupèrerez dans une variable f. Affichez f et son type."
   ]
  },
  {
   "cell_type": "code",
   "execution_count": 26,
   "metadata": {},
   "outputs": [
    {
     "name": "stdout",
     "output_type": "stream",
     "text": [
      "La produit f de a et b est : 100.0 , et son type est : <class 'float'>\n"
     ]
    }
   ],
   "source": [
    "f = a * b       # produit de b et c\n",
    "print(f\"La produit f de a et b est : {f} , et son type est : {type(f)}\") # print(f), print(type(f))"
   ]
  },
  {
   "cell_type": "markdown",
   "metadata": {},
   "source": [
    ">Que remarquez-vous?"
   ]
  },
  {
   "cell_type": "raw",
   "metadata": {},
   "source": [
    "Réponse : Le produit d'un nombre entier de type int et d'un nombre flottant (float) donne un nombre flottant (float)."
   ]
  },
  {
   "cell_type": "markdown",
   "metadata": {},
   "source": [
    "Les opérateurs du type += et -=  permettent de réaliser une affectation composée, c'est-à-dire une opération directement suivie d'une affectation. En les testant dans la cellule suivante, donnez leur signification. Ces opérateurs fonctionnent-ils sur des flottants ?"
   ]
  },
  {
   "cell_type": "code",
   "execution_count": 39,
   "metadata": {},
   "outputs": [
    {
     "name": "stdout",
     "output_type": "stream",
     "text": [
      "30\n",
      "<class 'int'>\n",
      "-10.0\n",
      "<class 'float'>\n"
     ]
    }
   ],
   "source": [
    "x = 10 # int\n",
    "y = 20 # int\n",
    "\n",
    "x += y\n",
    "print(x)\n",
    "print(type(x))\n",
    "\n",
    "xx = 10. #float\n",
    "yy = 20. #float\n",
    "\n",
    "xx -= yy\n",
    "print(xx)\n",
    "print(type(xx))"
   ]
  },
  {
   "cell_type": "raw",
   "metadata": {},
   "source": [
    "Réponse : Les opérateurs \"-=\" et \"+=\" fonctionnent avec les nombre de type int ou float. "
   ]
  },
  {
   "cell_type": "markdown",
   "metadata": {},
   "source": [
    "#### 3. Le type booléen : ***bool***  \n",
    "\n",
    "Le type bool est utilisé pour les booléens. Un booléen peut prendre les valeurs True ou False.\n",
    "\n",
    ">Dans les 2 cellules ci-dessous, affichez le type des variables."
   ]
  },
  {
   "cell_type": "code",
   "execution_count": 40,
   "metadata": {},
   "outputs": [],
   "source": [
    "a = True"
   ]
  },
  {
   "cell_type": "code",
   "execution_count": 41,
   "metadata": {},
   "outputs": [],
   "source": [
    "b = not(a)"
   ]
  },
  {
   "cell_type": "markdown",
   "metadata": {},
   "source": [
    "**Remarque** : la fonction ***not()*** est un opérateur logique qui renvoie l’opposé de la valeur booléenne transmise. Pour True, on obtient False. Réciproquement, il renvoie False quand on lui transmet True.\n",
    "\n",
    "Dans la cellule suivante, affichez le résultat de l'opération logique ***a and b***"
   ]
  },
  {
   "cell_type": "code",
   "execution_count": 43,
   "metadata": {},
   "outputs": [
    {
     "name": "stdout",
     "output_type": "stream",
     "text": [
      "False\n"
     ]
    }
   ],
   "source": [
    "print(a and b) # True and not True donne True and False qui donne False"
   ]
  },
  {
   "cell_type": "markdown",
   "metadata": {},
   "source": [
    "Dans la cellule suivante, affichez le résultat de l'opération logique ***a or b***"
   ]
  },
  {
   "cell_type": "code",
   "execution_count": 45,
   "metadata": {},
   "outputs": [
    {
     "name": "stdout",
     "output_type": "stream",
     "text": [
      "True\n"
     ]
    }
   ],
   "source": [
    "print(a or b) # True or not True donne True or False qui donne True"
   ]
  },
  {
   "cell_type": "markdown",
   "metadata": {},
   "source": [
    "#### 3. La chaîne de caractères : le type ***str***  \n",
    "Sous Python, une donnée de type str est une suite quelconque de caractères délimitée soit par des apostrophes (simple quotes), soit par des guillemets (double quotes). str est l’abréviation de string, qui veut dire chaîne en français.\n",
    "\n",
    ">Dans les 2 cellules ci-dessous, affichez le type des variables et leur contenu."
   ]
  },
  {
   "cell_type": "code",
   "execution_count": 46,
   "metadata": {},
   "outputs": [],
   "source": [
    "a = 'Je suis une chaine de caractères.'\n"
   ]
  },
  {
   "cell_type": "code",
   "execution_count": 47,
   "metadata": {},
   "outputs": [],
   "source": [
    "b = \"J'en suis une autre mais je gère mieux les apostrophes.\"\n"
   ]
  },
  {
   "cell_type": "markdown",
   "metadata": {},
   "source": [
    "Pour **concaténer** deux chaines de caractères (c'est à dire coller), on utlise le \"+\" en Python.\n",
    "\n",
    ">Créer, dans la cellule ci-dessous, une troisième variable que vous nommerez c et qui contiendra la concaténation des chaines a et b.  \n",
    "Affichez c."
   ]
  },
  {
   "cell_type": "code",
   "execution_count": 49,
   "metadata": {},
   "outputs": [
    {
     "name": "stdout",
     "output_type": "stream",
     "text": [
      "Je suis une chaine de caractères.J'en suis une autre mais je gère mieux les apostrophes.\n",
      "88\n"
     ]
    }
   ],
   "source": [
    "c = a + b\n",
    "print(c)\n",
    "print(len(c))"
   ]
  },
  {
   "cell_type": "markdown",
   "metadata": {},
   "source": [
    "Pour obtenir la longeur de la chaine, c'est à dire son nombre de caractères, on utlise la fonction ***len()***."
   ]
  },
  {
   "cell_type": "markdown",
   "metadata": {},
   "source": [
    ">Utilisez dans la cellule précedente la fonction ***len()*** pour afficher la longueur de la chaine c.  \n",
    "Quelle est sa longueur ?"
   ]
  },
  {
   "cell_type": "raw",
   "metadata": {},
   "source": [
    "Réponse : La longueur de c est de 88 caractères. "
   ]
  },
  {
   "cell_type": "markdown",
   "metadata": {},
   "source": [
    "Remarque: il est parfois nécessaire d'utiliser des fonctions de changement de type: \n",
    "* ***str()*** pour une conversion en string\n",
    "* ***int()*** pour une conversion en entier\n",
    "* ***float()*** pour une conversion en flottant\n",
    ">Affichez à partir des variables deb_phrase et annee \"Nous sommes en 2020\". <br>  \n",
    "Vous utiliserez les fonctions ***print()*** , ***str()*** et l'opérateur de concaténation +"
   ]
  },
  {
   "cell_type": "code",
   "execution_count": 50,
   "metadata": {},
   "outputs": [
    {
     "name": "stdout",
     "output_type": "stream",
     "text": [
      "Nous sommes en 2020\n"
     ]
    }
   ],
   "source": [
    "deb_phrase=\"Nous sommes en \"\n",
    "annee=2020\n",
    "print(deb_phrase + str(annee))\n"
   ]
  },
  {
   "cell_type": "markdown",
   "metadata": {},
   "source": [
    "Pour **répéter** plusieurs fois la même chaine de caractères on utlise le \" * \" en Python.\n",
    "> Compléter la cellule suivante pour afficher 10 fois \"oh!\""
   ]
  },
  {
   "cell_type": "code",
   "execution_count": 51,
   "metadata": {},
   "outputs": [
    {
     "name": "stdout",
     "output_type": "stream",
     "text": [
      "oh!oh!oh!oh!oh!oh!oh!oh!oh!oh!\n"
     ]
    }
   ],
   "source": [
    "a = \"oh!\"*10\n",
    "print(a)"
   ]
  },
  {
   "cell_type": "markdown",
   "metadata": {},
   "source": [
    "#### 4. La liste : le type ***list***  \n",
    "\n",
    "Sous Python, on peut définir une liste comme une collection d’éléments séparés par des virgules, l’ensemble étant enfermé dans des crochets."
   ]
  },
  {
   "cell_type": "code",
   "execution_count": 54,
   "metadata": {},
   "outputs": [
    {
     "name": "stdout",
     "output_type": "stream",
     "text": [
      "[1, 2.0, 'livre', True, 44, 123]\n",
      "6\n"
     ]
    }
   ],
   "source": [
    "ma_liste = [1,2.,\"livre\",True,44]\n",
    "ma_liste = ma_liste + [123] \n",
    "print(ma_liste)\n",
    "print(len(ma_liste))\n"
   ]
  },
  {
   "cell_type": "markdown",
   "metadata": {},
   "source": [
    "> Qu'observez-vous quant au contenu de la liste?\n"
   ]
  },
  {
   "cell_type": "raw",
   "metadata": {},
   "source": [
    "Réponse : Les éléments de la liste peuvent être de type différent : [1, 2.0, 'livre', True, 44, 123]"
   ]
  },
  {
   "cell_type": "markdown",
   "metadata": {},
   "source": [
    "La liste est donc différente du tableau.\n",
    "\n",
    ">Utilisez dans la cellule précedente la fonction ***len()*** pour afficher la longueur de la liste ma_liste.  \n",
    "Quelle est sa longueur ?"
   ]
  },
  {
   "cell_type": "raw",
   "metadata": {},
   "source": [
    "Réponse : La longueur de la liste est de 6 (6 éléments dans la liste)."
   ]
  },
  {
   "cell_type": "markdown",
   "metadata": {},
   "source": [
    "Les éléments d'une liste sont accessibles par un index. \n",
    ">   A quoi correspond ***ma_liste[0]*** ?    \n",
    "  ***ma_liste[len(ma_liste)]*** ? <br>\n",
    "  Comment accède-t-on au dernier élément d'une liste?"
   ]
  },
  {
   "cell_type": "code",
   "execution_count": 59,
   "metadata": {},
   "outputs": [
    {
     "name": "stdout",
     "output_type": "stream",
     "text": [
      "1\n",
      "123\n"
     ]
    }
   ],
   "source": [
    "print(ma_liste[0])\n",
    "print(ma_liste[-1])"
   ]
  },
  {
   "cell_type": "raw",
   "metadata": {},
   "source": [
    "Réponses : \n",
    "- ma_liste[0] est : 1\n",
    "- ma_liste[len(ma_liste)] : Erreur car l'index du dernier élément est 5 et non len(ma_liste) = 6\n",
    "- Dernier élément d'une liste : ma_liste[-1] car l'index -1 donne le dernier élement de la liste, -2 l'avant dernier, etc"
   ]
  },
  {
   "cell_type": "markdown",
   "metadata": {},
   "source": [
    "**Affichage de l'ensemble des variables globales courantes:**\n",
    ">Affichez la liste de l'ensemble de vos variables globales  (soit visibles de partout) et courantes avec la fonction magique IPython **%whos**"
   ]
  },
  {
   "cell_type": "code",
   "execution_count": 60,
   "metadata": {},
   "outputs": [
    {
     "name": "stdout",
     "output_type": "stream",
     "text": [
      "Variable     Type     Data/Info\n",
      "-------------------------------\n",
      "a            str      oh!oh!oh!oh!oh!oh!oh!oh!oh!oh!\n",
      "aa           float    20.0\n",
      "annee        int      2020\n",
      "b            str      J'en suis une autre mais <...>re mieux les apostrophes.\n",
      "bb           float    10.0\n",
      "c            str      Je suis une chaine de car<...>re mieux les apostrophes.\n",
      "d            float    0.00644\n",
      "deb_phrase   str      Nous sommes en \n",
      "e            float    130.0\n",
      "f            float    100.0\n",
      "i            int      9\n",
      "ma_liste     list     n=6\n",
      "var          int      17\n",
      "x            int      30\n",
      "xx           float    -10.0\n",
      "y            int      20\n",
      "yy           float    20.0\n"
     ]
    }
   ],
   "source": [
    "%whos"
   ]
  },
  {
   "cell_type": "markdown",
   "metadata": {},
   "source": [
    "### Tests : if , elif, else (si , sinon si, sinon)\n",
    "\n",
    "> Exécutez la cellule suivante et, en modifiant les valeurs de a et b, vérifiez le comportement de la structure ***if elif else***  \n",
    "> Observez les différentes façons d'utiliser la fonction ***print()***..."
   ]
  },
  {
   "cell_type": "code",
   "execution_count": 62,
   "metadata": {},
   "outputs": [
    {
     "name": "stdout",
     "output_type": "stream",
     "text": [
      "4 est supérieur à 3\n"
     ]
    }
   ],
   "source": [
    "a, b = 4, 3 # affectation simultannée des variables a et b\n",
    "if a > b:\n",
    "    print(str(a)+\" est supérieur à \"+str(b) )\n",
    "elif a == b:\n",
    "    print(a,\"est égal\",b)\n",
    "else:\n",
    "    print(\"%d est inférieur à %d\" % (a,b)) "
   ]
  },
  {
   "cell_type": "markdown",
   "metadata": {},
   "source": [
    "### Boucles for (pour)\n",
    "> Observez en les éxecutant les deux boucles for suivantes."
   ]
  },
  {
   "cell_type": "code",
   "execution_count": 64,
   "metadata": {},
   "outputs": [
    {
     "name": "stdout",
     "output_type": "stream",
     "text": [
      "0\n",
      "10\n",
      "1\n",
      "20\n",
      "2\n",
      "30\n"
     ]
    }
   ],
   "source": [
    "lst = [10, 20, 30]\n",
    "for i in range(3):\n",
    "    print(i)\n",
    "    print(lst[i])"
   ]
  },
  {
   "cell_type": "markdown",
   "metadata": {},
   "source": [
    ">Modifiez l'instruction print de la cellule précédente pour afficher en plus de l'indice index les différents éléments de la liste lst.\n",
    "\n",
    ">Avant de l'éxécuter, anticiper ce que va afficher le code suivant qui illustre **l'importance de l'indentation** pour la portée des instructions dans les structures du type for, while mais aussi if/elif/else."
   ]
  },
  {
   "cell_type": "code",
   "execution_count": 65,
   "metadata": {},
   "outputs": [
    {
     "name": "stdout",
     "output_type": "stream",
     "text": [
      "Je suis dans la boucle for et je me répète\n",
      "Je suis dans la boucle for et je me répète\n",
      "Je suis dans la boucle for et je me répète\n",
      "Je m'exécute une fois après la boucle\n"
     ]
    }
   ],
   "source": [
    "for i in range(3):\n",
    "    print(\"Je suis dans la boucle for et je me répète\")\n",
    "print(\"Je m'exécute une fois après la boucle\")"
   ]
  },
  {
   "cell_type": "markdown",
   "metadata": {},
   "source": [
    "### Boucles while (tant que)\n",
    "> Observez en l'éxecutant la boucle while suivante."
   ]
  },
  {
   "cell_type": "code",
   "execution_count": 2,
   "metadata": {},
   "outputs": [
    {
     "name": "stdout",
     "output_type": "stream",
     "text": [
      "1\n",
      "1 1\n",
      "2\n",
      "2 4\n",
      "3\n",
      "3 9\n",
      "4\n"
     ]
    }
   ],
   "source": [
    "nb = 0 ; stop = 5\n",
    "while nb <= stop:\n",
    "    nb += 1  # nb = nb + 1\n",
    "    print(nb)\n",
    "    if nb > 3:\n",
    "        break # continue before\n",
    "    print(nb, nb**2)"
   ]
  },
  {
   "cell_type": "markdown",
   "metadata": {},
   "source": [
    "> A quoi sert l'opérateur ** ?"
   ]
  },
  {
   "cell_type": "raw",
   "metadata": {},
   "source": [
    "Réponse : L'opérateur ** donne la puissance du nombre. Ex : 2**2 est 4"
   ]
  },
  {
   "cell_type": "markdown",
   "metadata": {},
   "source": [
    "L'instruction ***break*** permet de sortir prématurément d'une boucle.  \n",
    "L'instruction ***continue*** permet de reboucler sur l'itération suivante sans exécuter la suite des instructions.\n",
    "> Modifiez la boucle while précédente de façon à n'exécuter que les trois premères itérations en utilisant l'instruction ***break***\n",
    "\n",
    "### Saisie de données au clavier: la fonction input()\n",
    "La fonction ***input()*** est utilisée en Python pour lire des données saisies par un utilisateur au clavier (entrée standard).  \n",
    "Elle s'utilise de la façon suivante :\n",
    "donnee = input(\"Texte à afficher\") où donnee est une variable de type string. Si on attend un entier, il faut donc convertir le string en int avec la fonction int, d'où l'emboitement des fonctions ***int()*** et ***input()*** que l'on retrouve souvent pour la saisie d'entiers.\n",
    "\n",
    "> Dans la cellule suivante, affichez le contenu et le type de la variable donnee en utilisant si possible **une seule instruction**.\n"
   ]
  },
  {
   "cell_type": "code",
   "execution_count": 3,
   "metadata": {},
   "outputs": [
    {
     "name": "stdout",
     "output_type": "stream",
     "text": [
      "3 <class 'int'>\n"
     ]
    }
   ],
   "source": [
    "donnee = int(input(\"Saisir un nombre entier : \"))\n",
    "print(donnee,type(donnee))"
   ]
  },
  {
   "cell_type": "markdown",
   "metadata": {},
   "source": [
    "> Complétez le code suivant qui demande à un utilisateur des nombres entiers positifs et qui fait en sorte d'arrêter la saisie lorsque l'utilisateur entre 0.  \n",
    "> Ce code ne vous rappelle rien ???\n"
   ]
  },
  {
   "cell_type": "code",
   "execution_count": 4,
   "metadata": {},
   "outputs": [
    {
     "name": "stdout",
     "output_type": "stream",
     "text": [
      "La valeur maximum est :  123\n"
     ]
    }
   ],
   "source": [
    "value = 1 \n",
    "valuemax = 0\n",
    "\n",
    "while value != 0 :\n",
    "    value = int(input(\"Saisissez un nombre entier : \"))\n",
    "    if value > valuemax : valuemax = value\n",
    "\n",
    "print(\"La valeur maximum est : \",valuemax)"
   ]
  },
  {
   "cell_type": "markdown",
   "metadata": {},
   "source": [
    "## Les bonnes pratiques de programmation\n",
    "\n",
    "\n",
    "1. **Commenter votre code**\n",
    "Ils commencent par un # et servent à documenter un code en Python. Ils sont essentiels pour la compréhension d'un code et sa maintenance. Les commentaires sur plusieurs lignes s'englobent de trois guillements : \"\"\" comentaires  .... \"\"\"\n",
    "\n",
    "\n",
    "2. **Aérer votre code**: un code sans espaces et sauts de ligne est illisible.\n",
    "\n",
    "\n",
    "3. **Respecter les indentations !**\n",
    "**Les indentions sont absolument critiques en Python**.  Elles servent à la délimitation des blocs d'instructions du type if, for, while ou encore pour la définition des fonctions !!!!!  \n",
    "Elles le sont moins pour d'autres langages informatiques mais néanmoins indispensables pour la bonne compréhension d'un code.\n",
    "\n",
    "\n",
    "4. Utiliser des **identificateurs clairs** pour les variables, c'est à dire assez longs et parlants, pour que l'on comprenne de quoi il s'agit !  \n",
    "\n",
    "\n",
    "\n",
    "5. **Tester son code** au fur et à mesure de la programmation. Dans le cas contraire, c'est la porte ouverte à une multitude d'erreurs !!!\n",
    "\n",
    "\n",
    "6. Ne pas utiliser les **mots réservés** en Python (liste non exhaustive):  \n",
    "\n",
    "***and,   del,   from,   not,   while,   as,   elif,   global,   or,   with,   assert,   else,   if,   pass,   yield,   break,   except,   import,   print,   class,   exec,   in,   raise,   continue,   finally,   is,   return,   def,   for,   lambda,   try***\n",
    "\n",
    "\n",
    "7. **Insérer un cartouche** en entête et le **mettre à jour** à chaque modification de fichiers  \n",
    "\n"
   ]
  },
  {
   "cell_type": "code",
   "execution_count": null,
   "metadata": {},
   "outputs": [],
   "source": [
    "# Date de création : \n",
    "# Auteur-e-s :\n",
    "# Fonction :  \n",
    "# Dernières modifications :\n",
    "# Librairies utilisées :"
   ]
  },
  {
   "cell_type": "markdown",
   "metadata": {},
   "source": [
    "### Exercices\n",
    "\n",
    "\n",
    "1. Soit la liste ['vache', 'souris', 'levure', 'bacterie'].   \n",
    "Affichez l'ensemble des éléments de cette liste (un élément par ligne).\n",
    "\n"
   ]
  },
  {
   "cell_type": "code",
   "execution_count": 6,
   "metadata": {},
   "outputs": [
    {
     "name": "stdout",
     "output_type": "stream",
     "text": [
      "vache\n",
      "souris\n",
      "levure\n",
      "bacterie\n"
     ]
    }
   ],
   "source": [
    "# Exo 1 :\n",
    "\n",
    "lst = ['vache', 'souris', 'levure', 'bacterie']\n",
    "\n",
    "for animal in lst : \n",
    "    print(animal)\n"
   ]
  },
  {
   "cell_type": "markdown",
   "metadata": {},
   "source": [
    "\n",
    "**2. Boucle et jours de la semaine**  \n",
    "Constituez une liste semaine contenant les 7 jours de la semaine.  \n",
    "En utilisant une boucle, écrivez chaque jour de la semaine ainsi que les messages suivants :  \n",
    "\"Au travail\" s'il s'agit du lundi au jeudi ;  \n",
    "\"Chouette c'est vendredi\" s'il s'agit du vendredi ;  \n",
    "\"Repos ce week-end\" s'il s'agit du samedi ou du dimanche.  \n",
    "Ces messages ne sont que des suggestions, vous pouvez laisser libre cours à votre imagination.\n"
   ]
  },
  {
   "cell_type": "code",
   "execution_count": 16,
   "metadata": {},
   "outputs": [
    {
     "name": "stdout",
     "output_type": "stream",
     "text": [
      "Lundi Au travail : fini le week-end !\n",
      "Mardi \n",
      "Mercredi \n",
      "Jeudi \n",
      "Vendredi Chouette bientôt le week-end.\n",
      "Samedi Repos ce week-end.\n",
      "Dimanche Repos ce week-end.\n"
     ]
    }
   ],
   "source": [
    "# Exo 2 :\n",
    "\n",
    "lst = ['Lundi', 'Mardi', 'Mercredi', 'Jeudi', 'Vendredi', 'Samedi', 'Dimanche']\n",
    "\n",
    "for day in lst : \n",
    "    msg = \"\"\n",
    "    if day == \"Lundi\" : msg = \"Au travail : fini le week-end !\"\n",
    "    elif day == \"Vendredi\" : msg  = \"Chouette bientôt le week-end.\"\n",
    "    elif day in lst[-2:] : msg = \"Repos ce week-end.\"\n",
    "    print(f\"{day} {msg}\")\n"
   ]
  },
  {
   "cell_type": "markdown",
   "metadata": {},
   "source": [
    "**3. Créez un script qui dessine un triangle comme celui-ci :**    \n",
    "\n",
    "& \n",
    "<br>\n",
    "&&\n",
    "<br>\n",
    "&&&\n",
    "<br>\n",
    "&&&& "
   ]
  },
  {
   "cell_type": "code",
   "execution_count": 20,
   "metadata": {},
   "outputs": [
    {
     "name": "stdout",
     "output_type": "stream",
     "text": [
      "&\n",
      "&&\n",
      "&&&\n",
      "&&&&\n"
     ]
    }
   ],
   "source": [
    "# Exo 3 : \n",
    "\n",
    "for i in range(1,5): print(\"&\"*i)"
   ]
  },
  {
   "cell_type": "markdown",
   "metadata": {},
   "source": [
    "**4. Recherche d'un nombre entre 1 et 100 par dichotomie +++**   \n",
    "La recherche par dichotomie est une méthode qui consiste à diviser (en général en parties égales) un problème pour en trouver la solution.\n",
    "Pour arriver rapidement à deviner le nombre, l'astuce consiste à prendre à chaque fois la moitié de l'intervalle dans lequel se trouve le nombre. \n",
    "Voici le détail des différentes étapes :  \n",
    "- le nombre se trouve entre 1 et 100, on propose 50 (100 / 2).  \n",
    "- le nombre se trouve entre 50 et 100, on propose 75 ( 50 + (100-50)/2 ).  \n",
    "- le nombre se trouve entre 75 et 100, on propose 87 ( 75 + (100-75)/2 ).  \n",
    "- le nombre se trouve entre 75 et 87, on propose 81 ( 75 + (87-75)/2 ).  \n",
    "- le nombre se trouve entre 75 et 81, on propose 78 ( 75 + (81-75)/2 ).  \n",
    "- le nombre se trouve entre 78 et 81, on propose 79 ( 78 + (81-78)/2 ).  "
   ]
  },
  {
   "cell_type": "code",
   "execution_count": 32,
   "metadata": {},
   "outputs": [
    {
     "name": "stdout",
     "output_type": "stream",
     "text": [
      "Le nombre se trouve entre 0 et 100\n",
      "On propose : 50\n",
      "Le nombre se trouve entre 51 et 100\n",
      "On propose : 75\n",
      "Le nombre se trouve entre 51 et 74\n",
      "On propose : 62\n",
      "Le nombre se trouve entre 63 et 74\n",
      "On propose : 68\n",
      "Le nombre se trouve entre 63 et 67\n",
      "On propose : 65\n",
      "Bravo, le nombre était: 65\n"
     ]
    }
   ],
   "source": [
    "from random import randint\n",
    "\n",
    "tirage = randint(1, 100)\n",
    "trouve = False\n",
    "a, b = 0, 100\n",
    "proposal = 0\n",
    "\n",
    "while not trouve:\n",
    "    \n",
    "    print(f\"Le nombre se trouve entre {a} et {b}\")\n",
    "    proposal = (a + b) // 2\n",
    "\n",
    "    print(\"On propose :\", proposal)\n",
    "    \n",
    "    if proposal == tirage: trouve = True\n",
    "    elif proposal < tirage: a = proposal + 1\n",
    "    else: b = proposal - 1\n",
    "        \n",
    "print(\"Bravo, le nombre était:\", tirage)\n"
   ]
  }
 ],
 "metadata": {
  "kernelspec": {
   "display_name": "Python 3 (ipykernel)",
   "language": "python",
   "name": "python3"
  },
  "language_info": {
   "codemirror_mode": {
    "name": "ipython",
    "version": 3
   },
   "file_extension": ".py",
   "mimetype": "text/x-python",
   "name": "python",
   "nbconvert_exporter": "python",
   "pygments_lexer": "ipython3",
   "version": "3.10.4"
  }
 },
 "nbformat": 4,
 "nbformat_minor": 2
}
